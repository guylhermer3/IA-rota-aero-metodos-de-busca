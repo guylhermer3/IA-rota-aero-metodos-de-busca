{
 "cells": [
  {
   "cell_type": "code",
   "execution_count": 1,
   "metadata": {},
   "outputs": [
    {
     "name": "stdout",
     "output_type": "stream",
     "text": [
      "Caminho encontrado: ['BVH', 'CGB', 'BSB', 'CDG', 'AGP']\n",
      "CPU times: total: 2.97 s\n",
      "Wall time: 3.38 s\n"
     ]
    }
   ],
   "source": [
    "%%time\n",
    "\n",
    "from collections import deque\n",
    "import pandas as pd\n",
    "from collections import defaultdict\n",
    "\n",
    "def carregar_rotas(arquivo_csv):\n",
    "    df = pd.read_csv(arquivo_csv)\n",
    "    grafo = defaultdict(list)\n",
    "    for _, linha in df.iterrows():\n",
    "        origem = linha['AER']\n",
    "        destino = linha['KZN']\n",
    "        grafo[origem].append(destino)\n",
    "    return grafo\n",
    "\n",
    "def busca_largura(grafo, inicio, destino):\n",
    "    visitados = set()\n",
    "    fila = deque([[inicio]])\n",
    "\n",
    "    while fila:\n",
    "        caminho = fila.popleft()\n",
    "        no = caminho[-1]\n",
    "\n",
    "        if no not in visitados:\n",
    "            vizinhos = grafo[no]\n",
    "\n",
    "            for vizinho in vizinhos:\n",
    "                novo_caminho = list(caminho)\n",
    "                novo_caminho.append(vizinho)\n",
    "                fila.append(novo_caminho)\n",
    "\n",
    "                if vizinho == destino:\n",
    "                    return novo_caminho\n",
    "\n",
    "            visitados.add(no)\n",
    "\n",
    "    return None\n",
    "\n",
    "if __name__ == \"__main__\":\n",
    "    grafo = carregar_rotas('routes.csv')\n",
    "    \n",
    "    origem = \"BVH\"#input(\"Digite a origem: \").strip()\n",
    "    destino = \"AGP\"#input(\"Digite o destino: \").strip()\n",
    "    \n",
    "    caminho = busca_largura(grafo, origem, destino)\n",
    "    if caminho:\n",
    "        print(f\"Caminho encontrado: {caminho}\")\n",
    "    else:\n",
    "        print(\"Caminho não encontrado.\")"
   ]
  },
  {
   "cell_type": "code",
   "execution_count": 2,
   "metadata": {},
   "outputs": [
    {
     "name": "stdout",
     "output_type": "stream",
     "text": [
      "Caminho encontrado: ['BVH', 'CGB', 'GYN', 'PMW', 'AUX', 'BSB', 'BRA', 'SSA', 'VDC', 'GRU', 'CAC', 'CWB', 'MVD', 'AEP', 'PDP', 'ROS', 'COR', 'MDZ', 'NQN', 'CRD', 'REL', 'BRC', 'EZE', 'DFW', 'ABQ', 'LAX', 'LAS', 'MTY', 'CUN', 'MEX', 'ACA', 'TLC', 'PVR', 'ORD', 'BRL', 'STL', 'OWB', 'SFB', 'KEF', 'HEL', 'TXL', 'FDH', 'DUS', 'AOI', 'FCO', 'CGN', 'NDR', 'AMS', 'TNG', 'BCN', 'BJL', 'DKR', 'BKO', 'ABJ', 'BOY', 'OUA', 'ACC', 'LOS', 'DLA', 'BRU', 'CMN', 'BGY', 'TIA', 'ATH', 'STR', 'AGP']\n",
      "CPU times: total: 2.42 s\n",
      "Wall time: 2.92 s\n"
     ]
    }
   ],
   "source": [
    "%%time\n",
    "\n",
    "import pandas as pd\n",
    "from collections import defaultdict\n",
    "\n",
    "def carregar_rotas(arquivo_csv):\n",
    "    df = pd.read_csv(arquivo_csv)\n",
    "    grafo = defaultdict(list)\n",
    "    for _, linha in df.iterrows():\n",
    "        origem = linha['AER']\n",
    "        destino = linha['KZN']\n",
    "        grafo[origem].append(destino)\n",
    "    return grafo\n",
    "\n",
    "def busca_profundidade(grafo, inicio, destino, caminho=None, visitados=None):\n",
    "    if caminho is None:\n",
    "        caminho = [inicio]\n",
    "    if visitados is None:\n",
    "        visitados = set()\n",
    "\n",
    "    visitados.add(inicio)\n",
    "\n",
    "    if inicio == destino:\n",
    "        return caminho\n",
    "\n",
    "    for vizinho in grafo[inicio]:\n",
    "        if vizinho not in visitados:\n",
    "            novo_caminho = busca_profundidade(grafo, vizinho, destino, caminho + [vizinho], visitados)\n",
    "            if novo_caminho:\n",
    "                return novo_caminho\n",
    "\n",
    "    return None\n",
    "\n",
    "if __name__ == \"__main__\":\n",
    "    grafo = carregar_rotas('routes.csv')\n",
    "    \n",
    "    origem = \"BVH\"#input(\"Digite a origem: \").strip()\n",
    "    destino = \"AGP\"#input(\"Digite o destino: \").strip()\n",
    "\n",
    "    caminho = busca_profundidade(grafo, origem, destino)\n",
    "    if caminho:\n",
    "        print(f\"Caminho encontrado: {caminho}\")\n",
    "    else:\n",
    "        print(\"Caminho não encontrado.\")\n"
   ]
  }
 ],
 "metadata": {
  "kernelspec": {
   "display_name": "Python 3",
   "language": "python",
   "name": "python3"
  },
  "language_info": {
   "codemirror_mode": {
    "name": "ipython",
    "version": 3
   },
   "file_extension": ".py",
   "mimetype": "text/x-python",
   "name": "python",
   "nbconvert_exporter": "python",
   "pygments_lexer": "ipython3",
   "version": "3.12.1"
  }
 },
 "nbformat": 4,
 "nbformat_minor": 2
}
